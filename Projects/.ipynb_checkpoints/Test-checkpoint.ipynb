{
 "cells": [
  {
   "cell_type": "code",
   "execution_count": 1,
   "metadata": {},
   "outputs": [],
   "source": [
    "pip install --upgrade wandb\n",
    "wandb login 606d6b7b71b00afce5e6e41acea8239a2dab442a\n"
   ]
  },
  {
   "cell_type": "code",
   "execution_count": null,
   "metadata": {},
   "outputs": [],
   "source": [
    "# Init wandb\n",
    "\n",
    "import wandb\n",
    "wandb.init(project=\"transfer-learn\")\n",
    "\n",
    "# Log metrics with wandb\n",
    " \n",
    "for _ in range(num_epochs):\n",
    "  train_model()\n",
    "  loss = calulate_loss()\n",
    "  wandb.log({\"Loss\": loss})\n",
    "\n",
    "# Save model to wandb\n",
    "\n",
    "np.save(\"weights\", weights)\n",
    "wandb.save(\"weights.npy\")"
   ]
  },
  {
   "cell_type": "code",
   "execution_count": null,
   "metadata": {},
   "outputs": [],
   "source": []
  }
 ],
 "metadata": {
  "kernelspec": {
   "display_name": "Python 3.7 (tensorflow)",
   "language": "python",
   "name": "tensorflow"
  },
  "language_info": {
   "codemirror_mode": {
    "name": "ipython",
    "version": 3
   },
   "file_extension": ".py",
   "mimetype": "text/x-python",
   "name": "python",
   "nbconvert_exporter": "python",
   "pygments_lexer": "ipython3",
   "version": "3.7.9"
  }
 },
 "nbformat": 4,
 "nbformat_minor": 4
}
