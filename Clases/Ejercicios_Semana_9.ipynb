{
  "nbformat": 4,
  "nbformat_minor": 0,
  "metadata": {
    "colab": {
      "name": "Ejercicios Semana 9.ipynb",
      "provenance": [],
      "collapsed_sections": [],
      "toc_visible": true,
      "authorship_tag": "ABX9TyP6H05xsf1gggS3oYtt6mMx",
      "include_colab_link": true
    },
    "kernelspec": {
      "name": "python3",
      "display_name": "Python 3"
    }
  },
  "cells": [
    {
      "cell_type": "markdown",
      "metadata": {
        "id": "view-in-github",
        "colab_type": "text"
      },
      "source": [
        "<a href=\"https://colab.research.google.com/github/ScueroInc/Disert/blob/main/Clases/Ejercicios_Semana_9.ipynb\" target=\"_parent\"><img src=\"https://colab.research.google.com/assets/colab-badge.svg\" alt=\"Open In Colab\"/></a>"
      ]
    },
    {
      "cell_type": "markdown",
      "metadata": {
        "id": "9-RaM8n2ANNN"
      },
      "source": [
        "# Ejercicio 1 "
      ]
    },
    {
      "cell_type": "code",
      "metadata": {
        "id": "DAvqMpTS5uA_",
        "outputId": "ccd7aac6-91d8-4117-c1bc-2e5ff3dc0f0a",
        "colab": {
          "base_uri": "https://localhost:8080/",
          "height": 1000
        }
      },
      "source": [
        "from random import choice \n",
        "from numpy import array, dot, random \n",
        "import matplotlib.pyplot as plt\n",
        " \n",
        "funcion_activacion = lambda x: -1 if x <= 0 else 1\n",
        " \n",
        " #datos para compuerta and\n",
        "\"\"\"datos_entrenamiento = [\n",
        "  (array([-1,-1]), -1), \n",
        "  (array([1,-1]), -1), \n",
        "  (array([-1,1]), -1), \n",
        "  (array([1,1]), 1),\n",
        "]\"\"\"\n",
        "\n",
        " #datos para compuerta or\n",
        "datos_entrenamiento = [\n",
        "  (array([-1,-1]), -1), \n",
        "  (array([1,-1]), 1), \n",
        "  (array([-1,1]), 1), \n",
        "  (array([1,1]), 1),\n",
        "]\n",
        "w=array([0,2]) \n",
        "teta= -0.5\n",
        "n=4 \n",
        "\n",
        "for i in range(n): \n",
        "  x= datos_entrenamiento[i][0]\n",
        "  print(\"---El valor de la Entrada \", i+1, \"es: \",x)\n",
        "  sup=datos_entrenamiento[i][1]\n",
        "  print(\"valor (Y) del sup: \",sup)\n",
        "  result= dot(w,x)+teta\n",
        "  print(\"activacion es\", funcion_activacion(result))\n",
        "  if sup != funcion_activacion(result):\n",
        "    print(\"update weights\")\n",
        "    w = w+sup*x\n",
        "    teta= teta+sup\n",
        "    print(\"------\")\n",
        "  print(\"weights\",w)\n",
        "  print(\"bias\",teta)\n",
        "\n",
        "  y=(-w[0]/w[1]*x)-teta/w[1]\n",
        "  plt.plot(x,y,'-r')\n",
        "  plt.xlim(xmin=-5, xmax=5)\n",
        "  plt.ylim(ymin=-5, ymax=5)\n",
        "  plt.show()\n",
        "\n",
        "for x, _ in datos_entrenamiento:\n",
        "  result = dot(x, w)+teta\n",
        "  print(\"(): {} -> {}\".format(x[:2], result,funcion_activacion(result)))\n",
        "  \n"
      ],
      "execution_count": 9,
      "outputs": [
        {
          "output_type": "stream",
          "text": [
            "---El valor de la Entrada  1 es:  [-1 -1]\n",
            "valor (Y) del sup:  -1\n",
            "activacion es -1\n",
            "weights [0 2]\n",
            "bias -0.5\n"
          ],
          "name": "stdout"
        },
        {
          "output_type": "display_data",
          "data": {
            "image/png": "[encoded data removed]",
            "text/plain": [
              "<Figure size 432x288 with 1 Axes>"
            ]
          },
          "metadata": {
            "tags": [],
            "needs_background": "light"
          }
        },
        {
          "output_type": "stream",
          "text": [
            "---El valor de la Entrada  2 es:  [ 1 -1]\n",
            "valor (Y) del sup:  1\n",
            "activacion es -1\n",
            "update weights\n",
            "------\n",
            "weights [1 1]\n",
            "bias 0.5\n"
          ],
          "name": "stdout"
        },
        {
          "output_type": "display_data",
          "data": {
            "image/png": "[encoded data removed]",
            "text/plain": [
              "<Figure size 432x288 with 1 Axes>"
            ]
          },
          "metadata": {
            "tags": [],
            "needs_background": "light"
          }
        },
        {
          "output_type": "stream",
          "text": [
            "---El valor de la Entrada  3 es:  [-1  1]\n",
            "valor (Y) del sup:  1\n",
            "activacion es 1\n",
            "weights [1 1]\n",
            "bias 0.5\n"
          ],
          "name": "stdout"
        },
        {
          "output_type": "display_data",
          "data": {
            "image/png": "[encoded data removed]",
            "text/plain": [
              "<Figure size 432x288 with 1 Axes>"
            ]
          },
          "metadata": {
            "tags": [],
            "needs_background": "light"
          }
        },
        {
          "output_type": "stream",
          "text": [
            "---El valor de la Entrada  4 es:  [1 1]\n",
            "valor (Y) del sup:  1\n",
            "activacion es 1\n",
            "weights [1 1]\n",
            "bias 0.5\n"
          ],
          "name": "stdout"
        },
        {
          "output_type": "display_data",
          "data": {
            "image/png": "[encoded data removed]",
            "text/plain": [
              "<Figure size 432x288 with 1 Axes>"
            ]
          },
          "metadata": {
            "tags": [],
            "needs_background": "light"
          }
        },
        {
          "output_type": "stream",
          "text": [
            "(): [-1 -1] -> -1.5\n",
            "(): [ 1 -1] -> 0.5\n",
            "(): [-1  1] -> 0.5\n",
            "(): [1 1] -> 2.5\n"
          ],
          "name": "stdout"
        }
      ]
    },
    {
      "cell_type": "markdown",
      "metadata": {
        "id": "_uSBa0UZCc9o"
      },
      "source": [
        "# Ejercicio 2"
      ]
    },
    {
      "cell_type": "code",
      "metadata": {
        "id": "0chFHs1VCkAX",
        "outputId": "783862fc-f480-4a92-a714-0f28117d15d2",
        "colab": {
          "base_uri": "https://localhost:8080/",
          "height": 1000
        }
      },
      "source": [
        "from random import choice \n",
        "from numpy import array, dot, random \n",
        "import matplotlib.pyplot as plt\n",
        " \n",
        "funcion_activacion = lambda x: -1 if x <= 0 else 1\n",
        " \n",
        "\n",
        " #datos para compuerta or\n",
        "datos_entrenamiento = [\n",
        "  (array([-2,-1]), -1), \n",
        "  (array([-1,-1.5]), -1), \n",
        "  (array([2,-2]), -1), \n",
        "  (array([-2,1]), 1),\n",
        "  (array([1.5,0.5]), 1),\n",
        "  (array([1,1]), 1),\n",
        "]\n",
        "w=array([1,0.5]) \n",
        "teta= 0\n",
        "n=6 \n",
        "\n",
        "for i in range(n): \n",
        "  x= datos_entrenamiento[i][0]\n",
        "  print(\"---El valor de la Entrada \", i+1, \"es: \",x)\n",
        "  sup=datos_entrenamiento[i][1]\n",
        "  print(\"valor (Y) del sup: \",sup)\n",
        "  result= dot(w,x)+teta\n",
        "  print(\"activacion es\", funcion_activacion(result))\n",
        "  if sup != funcion_activacion(result):\n",
        "    print(\"update weights\")\n",
        "    w = w+sup*x\n",
        "    teta= teta+sup\n",
        "    print(\"------\")\n",
        "  print(\"weights\",w)\n",
        "  print(\"bias\",teta)\n",
        "\n",
        "  y=(-w[0]/w[1]*x)-teta/w[1]\n",
        "  plt.plot(x,y,'-r')\n",
        "  plt.xlim(xmin=-5, xmax=5)\n",
        "  plt.ylim(ymin=-5, ymax=5)\n",
        "  plt.show()\n",
        "\n",
        "for x, _ in datos_entrenamiento:\n",
        "  result = dot(x, w)+teta\n",
        "  print(\"(): {} -> {}\".format(x[:2], result,funcion_activacion(result)))"
      ],
      "execution_count": 11,
      "outputs": [
        {
          "output_type": "stream",
          "text": [
            "---El valor de la Entrada  1 es:  [-2 -1]\n",
            "valor (Y) del sup:  -1\n",
            "activacion es -1\n",
            "weights [1.  0.5]\n",
            "bias 0\n"
          ],
          "name": "stdout"
        },
        {
          "output_type": "display_data",
          "data": {
            "image/png": "[encoded data removed]",
            "text/plain": [
              "<Figure size 432x288 with 1 Axes>"
            ]
          },
          "metadata": {
            "tags": [],
            "needs_background": "light"
          }
        },
        {
          "output_type": "stream",
          "text": [
            "---El valor de la Entrada  2 es:  [-1.  -1.5]\n",
            "valor (Y) del sup:  -1\n",
            "activacion es -1\n",
            "weights [1.  0.5]\n",
            "bias 0\n"
          ],
          "name": "stdout"
        },
        {
          "output_type": "display_data",
          "data": {
            "image/png": "[encoded data removed]",
            "text/plain": [
              "<Figure size 432x288 with 1 Axes>"
            ]
          },
          "metadata": {
            "tags": [],
            "needs_background": "light"
          }
        },
        {
          "output_type": "stream",
          "text": [
            "---El valor de la Entrada  3 es:  [ 2 -2]\n",
            "valor (Y) del sup:  -1\n",
            "activacion es 1\n",
            "update weights\n",
            "------\n",
            "weights [-1.   2.5]\n",
            "bias -1\n"
          ],
          "name": "stdout"
        },
        {
          "output_type": "display_data",
          "data": {
            "image/png": "[encoded data removed]",
            "text/plain": [
              "<Figure size 432x288 with 1 Axes>"
            ]
          },
          "metadata": {
            "tags": [],
            "needs_background": "light"
          }
        },
        {
          "output_type": "stream",
          "text": [
            "---El valor de la Entrada  4 es:  [-2  1]\n",
            "valor (Y) del sup:  1\n",
            "activacion es 1\n",
            "weights [-1.   2.5]\n",
            "bias -1\n"
          ],
          "name": "stdout"
        },
        {
          "output_type": "display_data",
          "data": {
            "image/png": "[encoded data removed]",
            "text/plain": [
              "<Figure size 432x288 with 1 Axes>"
            ]
          },
          "metadata": {
            "tags": [],
            "needs_background": "light"
          }
        },
        {
          "output_type": "stream",
          "text": [
            "---El valor de la Entrada  5 es:  [1.5 0.5]\n",
            "valor (Y) del sup:  1\n",
            "activacion es -1\n",
            "update weights\n",
            "------\n",
            "weights [0.5 3. ]\n",
            "bias 0\n"
          ],
          "name": "stdout"
        },
        {
          "output_type": "display_data",
          "data": {
            "image/png": "[encoded data removed]",
            "text/plain": [
              "<Figure size 432x288 with 1 Axes>"
            ]
          },
          "metadata": {
            "tags": [],
            "needs_background": "light"
          }
        },
        {
          "output_type": "stream",
          "text": [
            "---El valor de la Entrada  6 es:  [1 1]\n",
            "valor (Y) del sup:  1\n",
            "activacion es 1\n",
            "weights [0.5 3. ]\n",
            "bias 0\n"
          ],
          "name": "stdout"
        },
        {
          "output_type": "display_data",
          "data": {
            "image/png": "[encoded data removed]",
            "text/plain": [
              "<Figure size 432x288 with 1 Axes>"
            ]
          },
          "metadata": {
            "tags": [],
            "needs_background": "light"
          }
        },
        {
          "output_type": "stream",
          "text": [
            "(): [-2 -1] -> -4.0\n",
            "(): [-1.  -1.5] -> -5.0\n",
            "(): [ 2 -2] -> -5.0\n",
            "(): [-2  1] -> 2.0\n",
            "(): [1.5 0.5] -> 2.25\n",
            "(): [1 1] -> 3.5\n"
          ],
          "name": "stdout"
        }
      ]
    },
    {
      "cell_type": "markdown",
      "metadata": {
        "id": "o4rQzzkRlRpb"
      },
      "source": [
        "# Ejercicio 3\n",
        "### Entrenar una Red Adaline para el siguiente problema de decodificador binario a decimal:\n",
        "Considere como configuración inicial: \n",
        "\n",
        "![Semana 9 Ejercicio 3.png](data:image/png;base64,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)\n",
        "> 𝑤1=3.4, 𝑤2=2.01, 𝑤2=1.00.\n",
        "\n",
        "\n",
        "* Resuelva tres iteraciones a mano\n",
        "* Luego implemente en R el algoritmo para ejecutar 15 iteraciones. Reporte los pesos resultantes en cada iteración.\n",
        "* Grafique la evolución del Error aplicando la fórmula de mínimos cuadrados."
      ]
    },
    {
      "cell_type": "code",
      "metadata": {
        "id": "N6bf3JdEDtmW",
        "outputId": "662f1e76-fa40-4d94-9b72-1296d7f9be34",
        "colab": {
          "base_uri": "https://localhost:8080/",
          "height": 1000
        }
      },
      "source": [
        "from random import choice \n",
        "from numpy import array, dot, random \n",
        "import matplotlib.pyplot as plt\n",
        "import numpy as np\n",
        "datos_entrenamiento = [\n",
        "    (array([0,0,1]),1),\n",
        "    (array([0,1,0]),2),\n",
        "    (array([0,1,1]),3),\n",
        "    (array([1,0,0]),4),\n",
        "    (array([1,0,1]),5),\n",
        "    (array([1,1,0]),6),\n",
        "    (array([1,1,1]),7),\n",
        "]\n",
        "w= array([3.4,2.01,1.00])\n",
        "errores=[]\n",
        "alfa=0.3\n",
        "n=7\n",
        "\n",
        "for j in range(10):\n",
        "  print(\"Iteracion: \", j)\n",
        "  for i in range(7):\n",
        "    x=datos_entrenamiento[i][0]\n",
        "    sup=datos_entrenamiento[i][1]\n",
        "    result= dot(w,x)\n",
        "    error=sup-result\n",
        "    errores.append(error)\n",
        "    w += alfa* error * x\n",
        "    print(\"Para la entrada\", i+1,\"se tienen los pesos: \",w)\n",
        "print(\"Los errores son: \",errores)\n",
        "plt.plot(errores)\n",
        "plt.show()\n",
        "#Falta evolución del Error aplicando la fórmula de mínimos cuadrados\n"
      ],
      "execution_count": 6,
      "outputs": [
        {
          "output_type": "stream",
          "text": [
            "Iteracion:  0\n",
            "Para la entrada 1 se tienen los pesos:  [3.4  2.01 1.  ]\n",
            "Para la entrada 2 se tienen los pesos:  [3.4   2.007 1.   ]\n",
            "Para la entrada 3 se tienen los pesos:  [3.4    2.0049 0.9979]\n",
            "Para la entrada 4 se tienen los pesos:  [3.58   2.0049 0.9979]\n",
            "Para la entrada 5 se tienen los pesos:  [3.70663 2.0049  1.12453]\n",
            "Para la entrada 6 se tienen los pesos:  [3.793171 2.091441 1.12453 ]\n",
            "Para la entrada 7 se tienen los pesos:  [3.7904284 2.0886984 1.1217874]\n",
            "Iteracion:  1\n",
            "Para la entrada 1 se tienen los pesos:  [3.7904284  2.0886984  1.08525118]\n",
            "Para la entrada 2 se tienen los pesos:  [3.7904284  2.06208888 1.08525118]\n",
            "Para la entrada 3 se tienen los pesos:  [3.7904284  2.01788686 1.04104916]\n",
            "Para la entrada 4 se tienen los pesos:  [3.85329988 2.01788686 1.04104916]\n",
            "Para la entrada 5 se tienen los pesos:  [3.88499517 2.01788686 1.07274445]\n",
            "Para la entrada 6 se tienen los pesos:  [3.91413056 2.04702225 1.07274445]\n",
            "Para la entrada 7 se tienen los pesos:  [3.90396138 2.03685307 1.06257527]\n",
            "Iteracion:  2\n",
            "Para la entrada 1 se tienen los pesos:  [3.90396138 2.03685307 1.04380269]\n",
            "Para la entrada 2 se tienen los pesos:  [3.90396138 2.02579715 1.04380269]\n",
            "Para la entrada 3 se tienen los pesos:  [3.90396138 2.0049172  1.02292274]\n",
            "Para la entrada 4 se tienen los pesos:  [3.93277297 2.0049172  1.02292274]\n",
            "Para la entrada 5 se tienen los pesos:  [3.94606426 2.0049172  1.03621403]\n",
            "Para la entrada 6 se tienen los pesos:  [3.96076982 2.01962276 1.03621403]\n",
            "Para la entrada 7 se tienen los pesos:  [3.95578784 2.01464078 1.03123204]\n",
            "Iteracion:  3\n",
            "Para la entrada 1 se tienen los pesos:  [3.95578784 2.01464078 1.02186243]\n",
            "Para la entrada 2 se tienen los pesos:  [3.95578784 2.01024855 1.02186243]\n",
            "Para la entrada 3 se tienen los pesos:  [3.95578784 2.00061525 1.01222914]\n",
            "Para la entrada 4 se tienen los pesos:  [3.96905149 2.00061525 1.01222914]\n",
            "Para la entrada 5 se tienen los pesos:  [3.9746673  2.00061525 1.01784495]\n",
            "Para la entrada 6 se tienen los pesos:  [3.98208253 2.00803049 1.01784495]\n",
            "Para la entrada 7 se tienen los pesos:  [3.97969514 2.0056431  1.01545756]\n",
            "Iteracion:  4\n",
            "Para la entrada 1 se tienen los pesos:  [3.97969514 2.0056431  1.01082029]\n",
            "Para la entrada 2 se tienen los pesos:  [3.97969514 2.00395017 1.01082029]\n",
            "Para la entrada 3 se tienen los pesos:  [3.97969514 1.99951903 1.00638915]\n",
            "Para la entrada 4 se tienen los pesos:  [3.9857866  1.99951903 1.00638915]\n",
            "Para la entrada 5 se tienen los pesos:  [3.98813387 1.99951903 1.00873643]\n",
            "Para la entrada 6 se tienen los pesos:  [3.991838   2.00322316 1.00873643]\n",
            "Para la entrada 7 se tienen los pesos:  [3.99069873 2.00208388 1.00759715]\n",
            "Iteracion:  5\n",
            "Para la entrada 1 se tienen los pesos:  [3.99069873 2.00208388 1.00531801]\n",
            "Para la entrada 2 se tienen los pesos:  [3.99069873 2.00145872 1.00531801]\n",
            "Para la entrada 3 se tienen los pesos:  [3.99069873 1.9994257  1.00328499]\n",
            "Para la entrada 4 se tienen los pesos:  [3.99348911 1.9994257  1.00328499]\n",
            "Para la entrada 5 se tienen los pesos:  [3.99445688 1.9994257  1.00425276]\n",
            "Para la entrada 6 se tienen los pesos:  [3.99629211 2.00126093 1.00425276]\n",
            "Para la entrada 7 se tienen los pesos:  [3.99575037 2.00071919 1.00371102]\n",
            "Iteracion:  6\n",
            "Para la entrada 1 se tienen los pesos:  [3.99575037 2.00071919 1.00259772]\n",
            "Para la entrada 2 se tienen los pesos:  [3.99575037 2.00050343 1.00259772]\n",
            "Para la entrada 3 se tienen los pesos:  [3.99575037 1.99957309 1.00166737]\n",
            "Para la entrada 4 se tienen los pesos:  [3.99702526 1.99957309 1.00166737]\n",
            "Para la entrada 5 se tienen los pesos:  [3.99741747 1.99957309 1.00205958]\n",
            "Para la entrada 6 se tienen los pesos:  [3.9983203  2.00047592 1.00205958]\n",
            "Para la entrada 7 se tienen los pesos:  [3.99806356 2.00021918 1.00180284]\n",
            "Iteracion:  7\n",
            "Para la entrada 1 se tienen los pesos:  [3.99806356 2.00021918 1.00126199]\n",
            "Para la entrada 2 se tienen los pesos:  [3.99806356 2.00015343 1.00126199]\n",
            "Para la entrada 3 se tienen los pesos:  [3.99806356 1.9997288  1.00083736]\n",
            "Para la entrada 4 se tienen los pesos:  [3.99864449 1.9997288  1.00083736]\n",
            "Para la entrada 5 se tienen los pesos:  [3.99879994 1.9997288  1.00099281]\n",
            "Para la entrada 6 se tienen los pesos:  [3.99924131 2.00017018 1.00099281]\n",
            "Para la entrada 7 se tienen los pesos:  [3.99912002 2.00004889 1.00087152]\n",
            "Iteracion:  8\n",
            "Para la entrada 1 se tienen los pesos:  [3.99912002 2.00004889 1.00061006]\n",
            "Para la entrada 2 se tienen los pesos:  [3.99912002 2.00003422 1.00061006]\n",
            "Para la entrada 3 se tienen los pesos:  [3.99912002 1.99984094 1.00041678]\n",
            "Para la entrada 4 se tienen los pesos:  [3.99938402 1.99984094 1.00041678]\n",
            "Para la entrada 5 se tienen los pesos:  [3.99944378 1.99984094 1.00047654]\n",
            "Para la entrada 6 se tienen los pesos:  [3.99965836 2.00005552 1.00047654]\n",
            "Para la entrada 7 se tienen los pesos:  [3.99960124 1.9999984  1.00041941]\n",
            "Iteracion:  9\n",
            "Para la entrada 1 se tienen los pesos:  [3.99960124 1.9999984  1.00029359]\n",
            "Para la entrada 2 se tienen los pesos:  [3.99960124 1.99999888 1.00029359]\n",
            "Para la entrada 3 se tienen los pesos:  [3.99960124 1.99991114 1.00020585]\n",
            "Para la entrada 4 se tienen los pesos:  [3.99972087 1.99991114 1.00020585]\n",
            "Para la entrada 5 se tienen los pesos:  [3.99974285 1.99991114 1.00022783]\n",
            "Para la entrada 6 se tienen los pesos:  [3.99984665 2.00001494 1.00022783]\n",
            "Para la entrada 7 se tienen los pesos:  [3.99981983 1.99998811 1.00020101]\n",
            "Los errores son:  [0.0, -0.009999999999999787, -0.006999999999999673, 0.6000000000000001, 0.4220999999999995, 0.2884700000000002, -0.009141999999999761, -0.1217874000000001, -0.08869839999999973, -0.14734005999999944, 0.20957159999999986, 0.10565095800000002, 0.09711797060000027, -0.033897261159999914, -0.06257527105200023, -0.036853074831999955, -0.06959984211879977, 0.09603861976799966, 0.04430429673683989, 0.049018545069787756, -0.01660660809389647, -0.031232043693643075, -0.014640780839527245, -0.03211097717321909, 0.04421216372378023, 0.018719377173061602, 0.024717448019024424, -0.007957971377893003, -0.015457559172134872, -0.0056430964280425044, -0.014770458920124518, 0.02030485846238861, 0.007824247179215149, 0.012347096946315084, -0.0037975891196957434, -0.007597151162312965, -0.0020838821715782885, -0.006776723333723922, 0.009301274421921413, 0.0032259032818435784, 0.0061174205908045565, -0.0018057915617326614, -0.0037110223295351297, -0.0007191892287088386, -0.003101148090770778, 0.004249632402070436, 0.0013073714780063028, 0.0030094432051823716, -0.0008558053647726993, -0.0018028410374133497, -0.00021917938498772216, -0.0014154142956805948, 0.0019364398859242904, 0.0005181434826617703, 0.0014712635945617336, -0.00040430204445929263, -0.0008715168689457098, -4.888974581751526e-05, -0.0006442846303342797, 0.0008799764103177843, 0.00019920706806075827, 0.0007152839338324668, -0.00019042496604715353, -0.00041941104976572774, 1.604876692429258e-06, -0.00029246432115126453, 0.0003987636764688496, 7.328613503787551e-05, 0.0003460114430469119, -8.942970178260623e-05]\n"
          ],
          "name": "stdout"
        },
        {
          "output_type": "display_data",
          "data": {
            "image/png": "[encoded data removed]",
            "text/plain": [
              "<Figure size 432x288 with 1 Axes>"
            ]
          },
          "metadata": {
            "tags": [],
            "needs_background": "light"
          }
        }
      ]
    },
    {
      "cell_type": "markdown",
      "metadata": {
        "id": "_8TKub6eLb6X"
      },
      "source": [
        "#Ejercicio 4\n",
        "### Implemente el algoritmo de aprendizaje del Perceptron Simple para hallar el hiperplano de separación de las especies versicolor y setosa del dataset “iris”.\n",
        "![Semana 9 Ejercicio.png](data:image/png;base64,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)"
      ]
    },
    {
      "cell_type": "code",
      "metadata": {
        "id": "YU9mBb8ktIKj",
        "outputId": "4f2436b1-7e05-4ddb-fac7-145bc5d39868",
        "colab": {
          "base_uri": "https://localhost:8080/",
          "height": 483
        }
      },
      "source": [
        "from random import choice \n",
        "from numpy import array, dot, random \n",
        "import matplotlib.pyplot as plt\n",
        "import pandas as pd\n",
        "from __future__ import print_function\n",
        "\n",
        "pd.__version__\n",
        "\n",
        "url='https://gist.githubusercontent.com/curran/a08a1080b88344b0c8a7/raw/0e7a9b0a5d22642a06d3d5b9bcbad9890c8ee534/iris.csv'\n",
        "\n",
        "\n",
        "funcion_activacion = lambda x: -1 if x <= 0 else 1\n",
        " \n",
        "x=pd.read_csv(url,usecols=['sepal_length'])\n",
        "y=pd.read_csv(url,usecols=['petal_length'])\n",
        "plt.scatter(x,y)\n",
        "plt.xlim(xmin =4, xmax=7)\n",
        "plt.ylim(ymin =1, ymax=5)\n",
        "plt.show()\n",
        " #datos para compuerta or\n",
        "datos_entrenamiento = [\n",
        "                       \n",
        "\n",
        "  (array([-2,-1]), -1), \n",
        "  (array([-1,-1.5]), -1), \n",
        "  (array([2,-2]), -1), \n",
        "  (array([-2,1]), 1),\n",
        "  (array([1.5,0.5]), 1),\n",
        "  (array([1,1]), 1),\n",
        "]\n",
        "w=array([1,0.5]) \n",
        "teta= 0\n",
        "n=6 \n",
        "\n",
        "for i in range(n): \n",
        "  x= datos_entrenamiento[i][0]\n",
        "  print(\"---El valor de la Entrada \", i+1, \"es: \",x)\n",
        "  sup=datos_entrenamiento[i][1]\n",
        "  print(\"valor (Y) del sup: \",sup)\n",
        "  result= dot(w,x)+teta\n",
        "  print(\"activacion es\", funcion_activacion(result))\n",
        "  if sup != funcion_activacion(result):\n",
        "    print(\"update weights\")\n",
        "    w = w+sup*x\n",
        "    teta= teta+sup\n",
        "    print(\"------\")\n",
        "  print(\"weights\",w)\n",
        "  print(\"bias\",teta)\n",
        "\n",
        "  y=(-w[0]/w[1]*x)-teta/w[1]\n",
        "  plt.plot(x,y,'-r')\n",
        "  plt.xlim(xmin=-5, xmax=5)\n",
        "  plt.ylim(ymin=-5, ymax=5)\n",
        "  plt.show()\n",
        "\n",
        "for x, _ in datos_entrenamiento:\n",
        "  result = dot(x, w)+teta\n",
        "  print(\"(): {} -> {}\".format(x[:2], result,funcion_activacion(result)))\n",
        "  \"\"\"5.1,0.2,-1\n",
        "4.9,0.2,-1\n",
        "4.7,0.2,-1\n",
        "4.6,0.2,-1\n",
        "5.0,0.2,-1\n",
        "5.4,0.4,-1\n",
        "4.6,0.3,-1\n",
        "5.0,0.2,-1\n",
        "4.4,0.2,-1\n",
        "4.9,0.1,-1\n",
        "5.4,0.2,-1\n",
        "4.8,0.2,-1\n",
        "4.8,0.1,-1\n",
        "4.3,0.1,-1\n",
        "5.8,0.2,-1\n",
        "5.7,0.4,-1\n",
        "5.4,0.4,-1\n",
        "5.1,0.3,-1\n",
        "5.7,0.3,-1\n",
        "5.1,0.3,-1\n",
        "5.4,0.2,-1\n",
        "5.1,0.4,-1\n",
        "4.6,0.2,-1\n",
        "5.1,0.5,-1\n",
        "4.8,0.2,-1\n",
        "5.0,0.2,-1\n",
        "5.0,0.4,-1\n",
        "5.2,0.2,-1\n",
        "5.2,0.2,-1\n",
        "4.7,0.2,-1\n",
        "4.8,0.2,-1\n",
        "5.4,0.4,-1\n",
        "5.2,0.1,-1\n",
        "5.5,0.2,-1\n",
        "4.9,0.1,-1\n",
        "5.0,0.2,-1\n",
        "5.5,0.2,-1\n",
        "4.9,0.1,-1\n",
        "4.4,0.2,-1\n",
        "5.1,0.2,-1\n",
        "5.0,0.3,-1\n",
        "4.5,0.3,-1\n",
        "4.4,0.2,-1\n",
        "5.0,0.6,-1\n",
        "\n",
        "7.0 ,1.4,1\n",
        "6.4 ,1.5,1\n",
        "6.9 ,1.5,1\n",
        "5.5 ,1.3,1\n",
        "6.5 ,1.5,1\n",
        "5.7, 1.3,1\n",
        "6.3, 1.6,1\n",
        "4.9 ,1.0,1\n",
        "6.6 ,1.3,1\n",
        "5.2 ,1.4,1\n",
        "5.0 ,1.0,1\n",
        "5.9 ,1.5,1\n",
        "6.0,1.0,1\n",
        "6.1 ,1.4,1\n",
        "5.6, 1.3,1\n",
        "6.7,3.1,4.4,1.4,1\n",
        "5.6,3.0,4.5,1.5,1\n",
        "5.8,2.7,4.1,1.0,1\n",
        "6.2,2.2,4.5,1.5,1\n",
        "5.6,2.5,3.9,1.1,1\n",
        "5.9,3.2,4.8,1.8,1\n",
        "6.1,2.8,4.0,1.3,1\n",
        "6.3,2.5,4.9,1.5,1\n",
        "6.1,2.8,4.7,1.2,1\n",
        "6.4,2.9,4.3,1.3,1\n",
        "6.6,3.0,4.4,1.4,1\n",
        "6.8,2.8,4.8,1.4,1\n",
        "6.7,3.0,5.0,1.7,1\n",
        "6.0,2.9,4.5,1.5,1\n",
        "5.7,2.6,3.5,1.0,1\n",
        "5.5,2.4,3.8,1.1,1\n",
        "5.5,2.4,3.7,1.0,1\n",
        "5.8,2.7,3.9,1.2,1\n",
        "6.0,2.7,5.1,1.6,1\n",
        "5.4,3.0,4.5,1.5,1\n",
        "6.0,3.4,4.5,1.6,1\n",
        "6.7,3.1,4.7,1.5,1\n",
        "6.3,2.3,4.4,1.3,1\n",
        "5.6,3.0,4.1,1.3,1\n",
        "5.5,2.5,4.0,1.3,1\n",
        "5.5,2.6,4.4,1.2,1\n",
        "6.1,3.0,4.6,1.4,1\n",
        "5.8,2.6,4.0,1.2,1\n",
        "5.0,2.3,3.3,1.0,1\n",
        "5.6,2.7,4.2,1.3,1\n",
        "5.7,3.0,4.2,1.2,1\n",
        "5.7,2.9,4.2,1.3,1\n",
        "6.2,2.9,4.3,1.3,1\n",
        "5.1,2.5,3.0,1.1,1\n",
        "5.7,2.8,4.1,1.3,1\"\"\""
      ],
      "execution_count": 14,
      "outputs": [
        {
          "output_type": "display_data",
          "data": {
            "image/png": "[encoded data removed]",
            "text/plain": [
              "<Figure size 432x288 with 1 Axes>"
            ]
          },
          "metadata": {
            "tags": [],
            "needs_background": "light"
          }
        },
        {
          "output_type": "error",
          "ename": "TypeError",
          "evalue": "ignored",
          "traceback": [
            "\u001b[0;31m---------------------------------------------------------------------------\u001b[0m",
            "\u001b[0;31mTypeError\u001b[0m                                 Traceback (most recent call last)",
            "\u001b[0;32m<ipython-input-14-0ad7d663cf96>\u001b[0m in \u001b[0;36m<module>\u001b[0;34m()\u001b[0m\n\u001b[1;32m    116\u001b[0m \u001b[0;36m5.1\u001b[0m\u001b[0;34m,\u001b[0m\u001b[0;36m2.5\u001b[0m\u001b[0;34m,\u001b[0m\u001b[0;36m3.0\u001b[0m\u001b[0;34m,\u001b[0m\u001b[0;36m1.1\u001b[0m\u001b[0;34m,\u001b[0m\u001b[0;36m1\u001b[0m\u001b[0;34m\u001b[0m\u001b[0;34m\u001b[0m\u001b[0m\n\u001b[1;32m    117\u001b[0m 5.7,2.8,4.1,1.3,1\"\"\"\n\u001b[0;32m--> 118\u001b[0;31m   \u001b[0;34m(\u001b[0m\u001b[0marray\u001b[0m\u001b[0;34m(\u001b[0m\u001b[0;34m[\u001b[0m\u001b[0;34m-\u001b[0m\u001b[0;36m2\u001b[0m\u001b[0;34m,\u001b[0m\u001b[0;34m-\u001b[0m\u001b[0;36m1\u001b[0m\u001b[0;34m]\u001b[0m\u001b[0;34m)\u001b[0m\u001b[0;34m,\u001b[0m \u001b[0;34m-\u001b[0m\u001b[0;36m1\u001b[0m\u001b[0;34m)\u001b[0m\u001b[0;34m,\u001b[0m\u001b[0;34m\u001b[0m\u001b[0;34m\u001b[0m\u001b[0m\n\u001b[0m\u001b[1;32m    119\u001b[0m   \u001b[0;34m(\u001b[0m\u001b[0marray\u001b[0m\u001b[0;34m(\u001b[0m\u001b[0;34m[\u001b[0m\u001b[0;34m-\u001b[0m\u001b[0;36m1\u001b[0m\u001b[0;34m,\u001b[0m\u001b[0;34m-\u001b[0m\u001b[0;36m1.5\u001b[0m\u001b[0;34m]\u001b[0m\u001b[0;34m)\u001b[0m\u001b[0;34m,\u001b[0m \u001b[0;34m-\u001b[0m\u001b[0;36m1\u001b[0m\u001b[0;34m)\u001b[0m\u001b[0;34m,\u001b[0m\u001b[0;34m\u001b[0m\u001b[0;34m\u001b[0m\u001b[0m\n\u001b[1;32m    120\u001b[0m   \u001b[0;34m(\u001b[0m\u001b[0marray\u001b[0m\u001b[0;34m(\u001b[0m\u001b[0;34m[\u001b[0m\u001b[0;36m2\u001b[0m\u001b[0;34m,\u001b[0m\u001b[0;34m-\u001b[0m\u001b[0;36m2\u001b[0m\u001b[0;34m]\u001b[0m\u001b[0;34m)\u001b[0m\u001b[0;34m,\u001b[0m \u001b[0;34m-\u001b[0m\u001b[0;36m1\u001b[0m\u001b[0;34m)\u001b[0m\u001b[0;34m,\u001b[0m\u001b[0;34m\u001b[0m\u001b[0;34m\u001b[0m\u001b[0m\n",
            "\u001b[0;31mTypeError\u001b[0m: 'str' object is not callable"
          ]
        }
      ]
    }
  ]
}